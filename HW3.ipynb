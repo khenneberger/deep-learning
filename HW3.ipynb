{
 "cells": [
  {
   "cell_type": "code",
   "execution_count": 1,
   "id": "2643f975-a3ca-45d0-a810-98352808b30f",
   "metadata": {},
   "outputs": [],
   "source": [
    "import numpy as np # math calcuations and other matrix, vector processing\n",
    "import pandas as pd # dataframe organization (similar to Excel)\n",
    "import seaborn as sns # for plotting\n",
    "import matplotlib.pyplot as plt # for plotting\n",
    "from sklearn.preprocessing import StandardScaler #replace by MinMaxScaler\n",
    "import tensorflow as tf\n",
    "from tensorflow.keras import Sequential\n",
    "from tensorflow.keras import layers\n",
    "import random\n",
    "from sklearn.model_selection import train_test_split\n",
    "from sklearn.metrics import accuracy_score"
   ]
  },
  {
   "cell_type": "code",
   "execution_count": 2,
   "id": "ac010f15-1eb2-4c03-9bc1-7413246c73ac",
   "metadata": {},
   "outputs": [],
   "source": [
    "train_csv = 'fashion_mnist_train.csv'\n",
    "test_csv = 'fashion_mnist_test.csv'\n",
    "feature_names = None #['pixel0, 'pixel1',...]\n",
    "label_name = 'label'"
   ]
  },
  {
   "cell_type": "code",
   "execution_count": 54,
   "id": "42dbb2fd-2cb2-4ac9-a381-d8ee81f2adab",
   "metadata": {},
   "outputs": [],
   "source": [
    "# Read data\n",
    "def read_data(csv_file):\n",
    "    df = pd.read_csv(csv_file)\n",
    "    return df\n",
    "\n",
    "# process data\n",
    "def get_features_labels(df, feature_names, label_name=None):\n",
    "    if feature_names:\n",
    "        X_features = df[feature_names].values\n",
    "    elif label_name:\n",
    "        X_features = df.drop(label_name, axis=1).values\n",
    "    else:\n",
    "        X_features = df.values\n",
    "    y_labels = None\n",
    "    if label_name: #have the label column in the dataframe\n",
    "        y_labels = df[label_name].values\n",
    "    return X_features, y_labels\n",
    "\n",
    "# Normalize feature\n",
    "def feature_normalization(X_train_features, X_test_features,\n",
    "                          do_normalization=True):\n",
    "    if do_normalization:\n",
    "        scaler = StandardScaler()\n",
    "        scaler.fit(X_train_features)\n",
    "        X_train_scaled_features = scaler.transform(X_train_features)\n",
    "        X_test_scaled_features = scaler.transform(X_test_features)\n",
    "        return X_train_scaled_features, X_test_scaled_features\n",
    "    else:\n",
    "        return X_train_features, X_test_features\n",
    "\n",
    "# Construct DNN model\n",
    "def build_DNN_model(input_shape):\n",
    "    model = Sequential()\n",
    "    initializer_rn = \\\n",
    "        tf.keras.initializers.RandomNormal(stddev=0.01),\n",
    "    initializer_vs = tf.keras.initializers.VarianceScaling(\n",
    "        scale=0.1, mode='fan_in', distribution='uniform')\n",
    "    initializer_gr = \\\n",
    "    tf.keras.initializers.GlorotNormal(seed=2022)\n",
    "    initializer_he = tf.keras.initializers.HeNormal(seed=2022)\n",
    "\n",
    "    l1_regularizer = tf.keras.regularizers.L1(0.01)\n",
    "    l2_regularizer = tf.keras.regularizers.L2(0.01)\n",
    "    \n",
    "    model.add(layers.Dense(512, activation=None, \n",
    "        kernel_initializer=initializer_vs,                   \n",
    "        kernel_regularizer=l2_regularizer,\n",
    "                           input_shape=input_shape,                      \n",
    "                          )) \n",
    "    model.add(layers.BatchNormalization())\n",
    "    model.add(layers.Activation(activation='relu'))\n",
    "\n",
    "    model.add(layers.Dense(64, activation='tanh'))\n",
    "    model.add(layers.Dense(128, activation='relu'))\n",
    "    model.add(layers.Dense(10, activation='softmax'))\n",
    "\n",
    "    return model\n",
    "\n",
    "# train the model\n",
    "def train_DNN(model, data, random_seed, **kwargs):\n",
    "    seed = random_seed\n",
    "    random.seed(seed)\n",
    "    np.random.seed(seed)\n",
    "    tf.random.set_seed(seed)\n",
    "    callback = tf.keras.callbacks.EarlyStopping(\n",
    "        monitor=\"val_loss\", \n",
    "        patience=3, \n",
    "        verbose=1,\n",
    "        restore_best_weights=True                               \n",
    "        )\n",
    "    optimizer = kwargs['optimizer']\n",
    "    epochs = kwargs['epochs']\n",
    "    batch_size = kwargs['batch_size']\n",
    "    model.compile(optimizer = optimizer, \n",
    "              loss='sparse_categorical_crossentropy', \n",
    "              metrics='accuracy')\n",
    "    history = model.fit(x=data['X_train'], y=data['y_train'], \n",
    "                    batch_size=batch_size,\n",
    "                    validation_data=[data['X_val'], data['y_val']],\n",
    "                    epochs=epochs,\n",
    "                    callbacks=[callback],\n",
    "                    verbose=1)\n",
    "    return history\n",
    "#plot loss/accuracy vals\n",
    "def plot_train_val(history):\n",
    "    plt.plot(history.history['loss'])\n",
    "    plt.plot(history.history['val_loss'])\n",
    "    plt.title('model loss')\n",
    "    plt.ylabel('loss')\n",
    "    plt.xlabel('epoch')\n",
    "    plt.legend(['train', 'validation'], loc='upper left')\n",
    "    plt.show()\n",
    "def plot_accuracy(history):\n",
    "    plt.plot(history.history['accuracy'])\n",
    "    plt.plot(history.history['val_accuracy'])\n",
    "    plt.title('model accuracy')\n",
    "    plt.ylabel('accuracy')\n",
    "    plt.xlabel('epoch')\n",
    "    plt.legend(['train', 'validation'], loc='upper left')\n",
    "    plt.show()"
   ]
  },
  {
   "cell_type": "code",
   "execution_count": 4,
   "id": "098e4a86-2ae3-4fab-8a6d-9def3b467e54",
   "metadata": {},
   "outputs": [],
   "source": [
    "\n",
    "# Read the data\n",
    "df_train = read_data(train_csv)\n",
    "df_test = read_data(test_csv)\n",
    "X_train_features, y_train = \\\n",
    "        get_features_labels(df_train, \n",
    "                 feature_names=None, label_name=label_name)\n",
    "X_test_features, _ = get_features_labels(df_test, \n",
    "                 feature_names=None, label_name=None)\n",
    "X_train, X_test = feature_normalization(X_train_features, \n",
    "                                        X_test_features,\n",
    "                          do_normalization=True)\n"
   ]
  },
  {
   "cell_type": "code",
   "execution_count": 5,
   "id": "b120cd90-7471-4c8a-9644-66ce05eca4ab",
   "metadata": {},
   "outputs": [],
   "source": [
    "\n",
    "# Construct validation data\n",
    "X_train_, X_val, y_train_, y_val = train_test_split(\n",
    "    X_train, y_train, stratify = y_train, test_size=0.3, \n",
    "    random_state=2022)\n",
    "\n"
   ]
  },
  {
   "cell_type": "code",
   "execution_count": 76,
   "id": "72641414-1107-4a7c-bc48-82754a392e4f",
   "metadata": {},
   "outputs": [
    {
     "name": "stdout",
     "output_type": "stream",
     "text": [
      "Model: \"sequential_11\"\n",
      "_________________________________________________________________\n",
      " Layer (type)                Output Shape              Param #   \n",
      "=================================================================\n",
      " dense_36 (Dense)            (None, 512)               401920    \n",
      "                                                                 \n",
      " batch_normalization_10 (Bat  (None, 512)              2048      \n",
      " chNormalization)                                                \n",
      "                                                                 \n",
      " activation_9 (Activation)   (None, 512)               0         \n",
      "                                                                 \n",
      " dense_37 (Dense)            (None, 64)                32832     \n",
      "                                                                 \n",
      " dense_38 (Dense)            (None, 128)               8320      \n",
      "                                                                 \n",
      " dense_39 (Dense)            (None, 10)                1290      \n",
      "                                                                 \n",
      "=================================================================\n",
      "Total params: 446,410\n",
      "Trainable params: 445,386\n",
      "Non-trainable params: 1,024\n",
      "_________________________________________________________________\n",
      "Epoch 1/5\n",
      "3750/3750 [==============================] - 45s 12ms/step - loss: 0.8072 - accuracy: 0.8267 - val_loss: 0.5330 - val_accuracy: 0.8730\n",
      "Epoch 2/5\n",
      "3750/3750 [==============================] - 42s 11ms/step - loss: 0.5450 - accuracy: 0.8511 - val_loss: 0.4465 - val_accuracy: 0.8796\n",
      "Epoch 3/5\n",
      "3750/3750 [==============================] - 41s 11ms/step - loss: 0.4975 - accuracy: 0.8574 - val_loss: 0.4370 - val_accuracy: 0.8754\n",
      "Epoch 4/5\n",
      "3750/3750 [==============================] - 40s 11ms/step - loss: 0.4848 - accuracy: 0.8589 - val_loss: 0.4297 - val_accuracy: 0.8815\n",
      "Epoch 5/5\n",
      "3750/3750 [==============================] - 40s 11ms/step - loss: 0.4794 - accuracy: 0.8605 - val_loss: 0.4284 - val_accuracy: 0.8814\n"
     ]
    }
   ],
   "source": [
    "# Build and train DNN model\n",
    "callback = tf.keras.callbacks.EarlyStopping(\n",
    "    monitor=\"val_loss\",# loss, accuracy, val_accuracy\n",
    "    patience=3,# after 3 epoch model witll stop if it does not see better performance\n",
    "    verbose=1, \n",
    "    restore_best_weights=True,# false: use weights from the last epoch, #true: use weights that give best performance\n",
    ")\n",
    "model = build_DNN_model(X_train_[0].shape)\n",
    "data = {'X_train': X_train, 'y_train': y_train,\n",
    "        'X_val' : X_val, 'y_val': y_val}\n",
    "model.summary()\n",
    "model_parameters = {'batch_size': 16,\n",
    "                    'optimizer': 'SGD',\n",
    "                    'epochs': 5, 'verbose':1\n",
    "                   }\n",
    "                    \n",
    "history = train_DNN(model, data,\n",
    "                    random_seed=2022,\n",
    "                    **model_parameters, callbacks = [callback]\n",
    "                   )\n"
   ]
  },
  {
   "cell_type": "code",
   "execution_count": 77,
   "id": "68c667cd-d7f8-4103-bce9-56d13e237a73",
   "metadata": {},
   "outputs": [
    {
     "data": {
      "image/png": "[encoded data removed]",
      "text/plain": [
       "<Figure size 432x288 with 1 Axes>"
      ]
     },
     "metadata": {
      "needs_background": "light"
     },
     "output_type": "display_data"
    }
   ],
   "source": [
    "\n",
    "plot_train_val(history)"
   ]
  },
  {
   "cell_type": "code",
   "execution_count": 78,
   "id": "26654d16-dadf-4321-91a8-6f6d2c77503f",
   "metadata": {},
   "outputs": [
    {
     "data": {
      "image/png": "[encoded data removed]",
      "text/plain": [
       "<Figure size 432x288 with 1 Axes>"
      ]
     },
     "metadata": {
      "needs_background": "light"
     },
     "output_type": "display_data"
    }
   ],
   "source": [
    "plot_accuracy(history)"
   ]
  },
  {
   "cell_type": "code",
   "execution_count": 79,
   "id": "6655e5d6-1df6-49a9-a3ea-8bce0cabc7b2",
   "metadata": {},
   "outputs": [
    {
     "name": "stdout",
     "output_type": "stream",
     "text": [
      "563/563 [==============================] - 4s 7ms/step\n",
      "Accuracy score = 0.8814444444444445\n"
     ]
    }
   ],
   "source": [
    "# Check performance on test-train-split set:\n",
    "#predicted score\n",
    "y_pred_test = model.predict(X_val) #output of last layer\n",
    "# predicted labels\n",
    "y_pred_label_test = np.argmax(y_pred_test, axis=1)\n",
    "\n",
    "\n",
    "print(f'Accuracy score = {accuracy_score(y_val,y_pred_label_test)}')\n"
   ]
  },
  {
   "cell_type": "code",
   "execution_count": 80,
   "id": "5d822e0c-65d9-4c17-a933-dc7f4d4cd04f",
   "metadata": {},
   "outputs": [
    {
     "name": "stdout",
     "output_type": "stream",
     "text": [
      "563/563 [==============================] - 4s 7ms/step\n"
     ]
    }
   ],
   "source": [
    "# Save Predictions for Test Data\n",
    "#predicted score\n",
    "y_pred = model.predict(X_val) #output of last layer\n",
    "# predicted labels\n",
    "y_pred_label = np.argmax(y_pred, axis=1)\n",
    "\n",
    "df_test_pred = pd.DataFrame(data=y_pred_label, columns=['label'])\n",
    "df_test_pred.to_csv('fashion_prediction.csv')"
   ]
  }
 ],
 "metadata": {
  "kernelspec": {
   "display_name": "Python 3 (ipykernel)",
   "language": "python",
   "name": "python3"
  },
  "language_info": {
   "codemirror_mode": {
    "name": "ipython",
    "version": 3
   },
   "file_extension": ".py",
   "mimetype": "text/x-python",
   "name": "python",
   "nbconvert_exporter": "python",
   "pygments_lexer": "ipython3",
   "version": "3.9.12"
  }
 },
 "nbformat": 4,
 "nbformat_minor": 5
}
