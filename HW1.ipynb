{
 "cells": [
  {
   "cell_type": "code",
   "execution_count": 32,
   "id": "cc8ed23b-9679-499f-8482-e84a0fad788b",
   "metadata": {},
   "outputs": [],
   "source": [
    "import numpy as np \n",
    "import pandas as pd \n",
    "from sklearn.linear_model import LinearRegression "
   ]
  },
  {
   "cell_type": "code",
   "execution_count": 33,
   "id": "780c8c3f-a4eb-4f9a-89f2-bb0c24d9d828",
   "metadata": {},
   "outputs": [],
   "source": [
    "train_csv= 'house_train.csv'\n",
    "test_csv = 'house_test.csv'\n",
    "feature_names = ['CRIM', 'ZN','INDUS', 'CHAS','NOX',\\\n",
    "                 'RM','AGE','DIS','RAD','TAX','PTRATIO',\\\n",
    "                 'LSTAT']\n",
    "label_name = ['PRICE']"
   ]
  },
  {
   "cell_type": "code",
   "execution_count": 34,
   "id": "0ad26e6d-b799-43b1-9ce0-d01b1dd0d1e9",
   "metadata": {},
   "outputs": [],
   "source": [
    "# Read Data\n",
    "def read_data(csv_file):\n",
    "    df = pd.read_csv(csv_file)\n",
    "    return df"
   ]
  },
  {
   "cell_type": "code",
   "execution_count": 35,
   "id": "aa21ea82-52f6-41c3-9c8d-b02f4e1543a8",
   "metadata": {},
   "outputs": [],
   "source": [
    "# Process data\n",
    "def get_features_labels(df, feature_names, label_name=None):\n",
    "    X_features = df[feature_names].values\n",
    "    y_labels = None\n",
    "    if label_name: # have the label column in the dataframe\n",
    "        y_labels = df[label_name]\n",
    "    return X_features, y_labels"
   ]
  },
  {
   "cell_type": "code",
   "execution_count": 65,
   "id": "99ac37d6-2c41-4127-a446-9d49d73ab7df",
   "metadata": {},
   "outputs": [],
   "source": [
    "# Display Predictor Function\n",
    "def print_pred(c_0, c):\n",
    "    n = len(c)-1\n",
    "    print(f'P(x)={c_0[0]}')\n",
    "    for i in range(0,len(c)-1):\n",
    "        print(f'{c[i]}x_{i+1}+')\n",
    "    print(f'{c[n]}x_{n+1}')"
   ]
  },
  {
   "cell_type": "code",
   "execution_count": 37,
   "id": "84e55efd-04b4-4faa-b7a5-ac1de4cdeee8",
   "metadata": {},
   "outputs": [],
   "source": [
    "# Main function\n",
    "# Process the training data\n",
    "df_train = read_data(train_csv)\n",
    "X_train_features, y_train_labels = get_features_labels(df_train, feature_names, label_name)\n",
    "# Process the test data\n",
    "df_test = read_data(test_csv)\n",
    "X_test_features, y_test_labels = get_features_labels(df_test, feature_names)"
   ]
  },
  {
   "cell_type": "code",
   "execution_count": 38,
   "id": "de048f52-e5e0-4778-8ee2-38d2833fe3d8",
   "metadata": {},
   "outputs": [
    {
     "data": {
      "text/plain": [
       "LinearRegression()"
      ]
     },
     "execution_count": 38,
     "metadata": {},
     "output_type": "execute_result"
    }
   ],
   "source": [
    "# Train the model\n",
    "my_reg = LinearRegression() # initailizing the LR model\n",
    "my_reg.fit(X_train_features, y_train_labels)"
   ]
  },
  {
   "cell_type": "code",
   "execution_count": 39,
   "id": "572e6706-3660-456d-b473-835234e2add7",
   "metadata": {},
   "outputs": [],
   "source": [
    "# Prediction\n",
    "y_test_pred = my_reg.predict(X_test_features)"
   ]
  },
  {
   "cell_type": "code",
   "execution_count": 40,
   "id": "9382b4a0-e370-428b-b0a9-4221cacdde28",
   "metadata": {},
   "outputs": [],
   "source": [
    "# Save Predictions\n",
    "df_test_pred = pd.DataFrame(data=y_test_pred, columns=['Predicted Price'])\n",
    "df_test_pred.to_csv('price_prediction.csv')"
   ]
  },
  {
   "cell_type": "code",
   "execution_count": 64,
   "id": "3ffc0f99-2d0c-4be3-bda3-213edff774eb",
   "metadata": {},
   "outputs": [],
   "source": [
    "# Extract and save coefficients \n",
    "c_0 = my_reg.intercept_\n",
    "c= my_reg.coef_.T.flatten(order='F')\n"
   ]
  },
  {
   "cell_type": "code",
   "execution_count": 66,
   "id": "18fb6345-36bc-4b5e-9ab1-591d34298c62",
   "metadata": {},
   "outputs": [
    {
     "name": "stdout",
     "output_type": "stream",
     "text": [
      "P(x)=41.59244202489462\n",
      "-0.11490274198022668x_1+\n",
      "0.04500394353181937x_2+\n",
      "-0.010943217296784212x_3+\n",
      "2.6290168247752828x_4+\n",
      "-16.481352227222295x_5+\n",
      "3.611762173505559x_6+\n",
      "-0.003464138772298172x_7+\n",
      "-1.4632552062091329x_8+\n",
      "0.2133236325564737x_9+\n",
      "-0.011373202449050317x_10+\n",
      "-0.9583304454836571x_11+\n",
      "-0.5375824765214278x_12\n"
     ]
    }
   ],
   "source": [
    "# Display representation of model’s predictor\n",
    "print_pred(c_0, c)"
   ]
  }
 ],
 "metadata": {
  "kernelspec": {
   "display_name": "Python 3 (ipykernel)",
   "language": "python",
   "name": "python3"
  },
  "language_info": {
   "codemirror_mode": {
    "name": "ipython",
    "version": 3
   },
   "file_extension": ".py",
   "mimetype": "text/x-python",
   "name": "python",
   "nbconvert_exporter": "python",
   "pygments_lexer": "ipython3",
   "version": "3.9.12"
  }
 },
 "nbformat": 4,
 "nbformat_minor": 5
}
