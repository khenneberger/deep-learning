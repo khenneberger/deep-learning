{
 "cells": [
  {
   "cell_type": "code",
   "execution_count": 1,
   "id": "6db950eb-76a1-4d9e-81fb-a640303f40df",
   "metadata": {},
   "outputs": [],
   "source": [
    "import numpy as np # math calcuations and other matrix, vector processing\n",
    "import pandas as pd # dataframe organization (similar to Excel)\n",
    "from sklearn.linear_model import LogisticRegression\n",
    "from sklearn.preprocessing import StandardScaler #replace by MinMaxScaler\n",
    "from sklearn.model_selection import train_test_split # used this to check accuracy of different solvers \n",
    "# and check for overfitting"
   ]
  },
  {
   "cell_type": "code",
   "execution_count": 2,
   "id": "baa2ff7f-8a72-4236-9e72-c17c2d07e352",
   "metadata": {},
   "outputs": [],
   "source": [
    "train_csv = 'noshow_train.csv'\n",
    "test_csv = 'noshow_test.csv'\n",
    "feature_names = ['PatientId', 'AppointmentID', 'Gender', \n",
    "                 'Age', 'Scholarship', 'Hipertension',\n",
    "                 'Diabetes', 'Alcoholism', 'Handcap', 'SMS_received'] \n",
    "label_name = ['No-show']"
   ]
  },
  {
   "cell_type": "code",
   "execution_count": 3,
   "id": "14cac85a-a04e-4d6c-a5ef-25d982f52614",
   "metadata": {},
   "outputs": [],
   "source": [
    "# Read data\n",
    "def read_data(csv_file):\n",
    "    df = pd.read_csv(csv_file)\n",
    "    return df\n",
    "\n",
    "# process data\n",
    "def get_features_labels(df, feature_names, label_name=None):\n",
    "    X_features = df[feature_names].values\n",
    "    #df['Gender'].map({'M': 0, 'F': 1}).astype(float).values\n",
    "    y_labels = None\n",
    "    if label_name: #have the label column in the dataframe\n",
    "        y_labels = df[label_name].values\n",
    "    return X_features, y_labels\n",
    "\n",
    "# Normalize feature\n",
    "def feature_normalization(X_train_features, X_test_features,\n",
    "                          do_normalization=True):\n",
    "    if do_normalization:\n",
    "        scaler = StandardScaler()\n",
    "        scaler.fit(X_train_features)\n",
    "        X_train_scaled_features = scaler.transform(X_train_features)\n",
    "        X_test_scaled_features = scaler.transform(X_test_features)\n",
    "        return X_train_scaled_features, X_test_scaled_features\n",
    "    else:\n",
    "        return X_train_features, X_test_features\n",
    "    \n",
    "def train_and_predict(X_train_features, X_test_features, y_train_labels,\n",
    "                     max_iter=1000, solver='lbfgs', penalty='l2', C=1):\n",
    "    # Training and prediction\n",
    "    my_logreg = LogisticRegression(max_iter=max_iter,\n",
    "                                  solver=solver, penalty = penalty, C = C) # Initializing the LogReg model\n",
    "    my_logreg.fit(X_train_features, y_train_labels.ravel())\n",
    "    y_test_pred = my_logreg.predict(X_test_features)\n",
    "    return y_test_pred"
   ]
  },
  {
   "cell_type": "code",
   "execution_count": 4,
   "id": "95cca9d1-d9df-48b9-94b3-c045599043a7",
   "metadata": {},
   "outputs": [],
   "source": [
    "#main function\n",
    "# Process the training/testing data\n",
    "df_train = read_data(train_csv)\n",
    "df_test = read_data(test_csv)\n",
    "# change 'gender' to numeric\n",
    "df_train['Gender'] = df_train['Gender'].map({'M': 0, 'F': 1})\n",
    "df_train['Gender'] = df_train['Gender'].astype(float)\n",
    "df_test['Gender'] = df_test['Gender'].map({'M': 0, 'F': 1})\n",
    "df_test['Gender'] = df_test['Gender'].astype(float)\n",
    "X_train_features, y_train_labels = get_features_labels(df_train, feature_names, label_name)\n",
    "X_test_features, y_test_labels = get_features_labels(df_test, feature_names)"
   ]
  },
  {
   "cell_type": "code",
   "execution_count": 5,
   "id": "ffd63b02-310a-4f0c-a2e3-8176f4726c8e",
   "metadata": {},
   "outputs": [],
   "source": [
    "# test feature normalization\n",
    "X_train_scaled_features, X_test_scaled_features = \\\n",
    "        feature_normalization(X_train_features, X_test_features, \n",
    "                              do_normalization=True) "
   ]
  },
  {
   "cell_type": "code",
   "execution_count": 6,
   "id": "1b9011ac-9cf1-424f-b441-f9ca61fe33b1",
   "metadata": {},
   "outputs": [],
   "source": [
    "# Training and prediction\n",
    "y_test_pred = train_and_predict(X_train_scaled_features, X_test_scaled_features, \n",
    "                                y_train_labels,\n",
    "                     max_iter=1000, solver='lbfgs', penalty = 'none', C = 1)"
   ]
  },
  {
   "cell_type": "code",
   "execution_count": 9,
   "id": "d2fd0c7f-8d8a-43de-9281-743b17f2b3b9",
   "metadata": {},
   "outputs": [],
   "source": [
    "# Save Predictions\n",
    "df_test_pred = pd.DataFrame(data=y_test_pred, columns=['No-show'])\n",
    "df_test_pred.to_csv('noshow_prediction.csv')"
   ]
  }
 ],
 "metadata": {
  "kernelspec": {
   "display_name": "Python 3 (ipykernel)",
   "language": "python",
   "name": "python3"
  },
  "language_info": {
   "codemirror_mode": {
    "name": "ipython",
    "version": 3
   },
   "file_extension": ".py",
   "mimetype": "text/x-python",
   "name": "python",
   "nbconvert_exporter": "python",
   "pygments_lexer": "ipython3",
   "version": "3.9.12"
  }
 },
 "nbformat": 4,
 "nbformat_minor": 5
}
